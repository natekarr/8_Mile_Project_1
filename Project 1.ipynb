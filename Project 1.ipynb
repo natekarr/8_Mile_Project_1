{
 "cells": [
  {
   "cell_type": "code",
   "execution_count": null,
   "id": "61246cad",
   "metadata": {},
   "outputs": [],
   "source": [
    "#need pip install spotipy to run this\n",
    "import json\n",
    "import spotipy\n",
    "from spotipy.oauth2 import SpotifyClientCredentials\n",
    "import pandas as pd\n",
    "import numpy as np\n",
    "import matplotlib.pyplot as plt\n",
    "import os\n",
    "import base64\n",
    "from requests import post, get\n",
    "from config import cid, secret"
   ]
  },
  {
   "cell_type": "code",
   "execution_count": null,
   "id": "51b1538b",
   "metadata": {},
   "outputs": [],
   "source": [
    "client_credentials_manager = SpotifyClientCredentials(client_id=cid, client_secret=secret)\n",
    "sp = spotipy.Spotify(client_credentials_manager = client_credentials_manager)"
   ]
  },
  {
   "cell_type": "code",
   "execution_count": null,
   "id": "1e339d49",
   "metadata": {},
   "outputs": [],
   "source": [
    "results = sp.search(q='artist:' + 'Drake', type='artist')\n",
    "print(results)"
   ]
  },
  {
   "cell_type": "code",
   "execution_count": null,
   "id": "241609b8",
   "metadata": {},
   "outputs": [],
   "source": [
    "auth_string = cid + \":\" + secret\n",
    "auth_bytes = auth_string.encode('utf-8')\n",
    "auth_base64 = str(base64.b64encode(auth_bytes), 'utf-8')\n",
    "url = \"https://accounts.spotify.com/api/token\"\n",
    "headers = {\n",
    "    'Authorization': 'Basic ' + auth_base64,\n",
    "    'Content-Type': 'application/x-www-form-urlencoded'\n",
    "}\n",
    "data = {\"grant_type\": \"client_credentials\"}\n",
    "result = post(url, headers=headers, data=data)\n",
    "json_result = json.loads(result.content)\n",
    "token = json_result['access_token']\n",
    "print(token)"
   ]
  },
  {
   "cell_type": "code",
   "execution_count": null,
   "id": "d0f6d8e8",
   "metadata": {},
   "outputs": [],
   "source": [
    "playlist_link = \"https://open.spotify.com/playlist/37i9dQZF1DX7Jl5KP2eZaS?si=fa88101bc2b04d96\"\n",
    "playlist_URI = playlist_link.split(\"/\")[-1].split(\"?\")[0]\n",
    "track_uris = [x[\"track\"][\"uri\"] for x in sp.playlist_tracks(playlist_URI)[\"items\"]]"
   ]
  },
  {
   "cell_type": "code",
   "execution_count": null,
   "id": "204057d3",
   "metadata": {},
   "outputs": [],
   "source": [
    "sp.playlist_tracks(playlist_URI)['items'][0]['track']['duration_ms']"
   ]
  },
  {
   "cell_type": "code",
   "execution_count": null,
   "id": "9a34dc59",
   "metadata": {},
   "outputs": [],
   "source": [
    "genres = ''\n",
    "song_name = []\n",
    "artist_name = []\n",
    "artist_pop = []\n",
    "genre_list = []\n",
    "album = []\n",
    "track_pop = []\n",
    "for track in sp.playlist_tracks(playlist_URI)[\"items\"]:\n",
    "    #URI\n",
    "    track_uri = track[\"track\"][\"uri\"]\n",
    "    #print(track_uri)\n",
    "    #track = sp.track(track_uri)\n",
    "    #print(track)\n",
    "    #break\n",
    "    song_genre = sp.track(track_uri)\n",
    "    #print(song_genre['genre'])\n",
    "    \n",
    "    #Track name\n",
    "    song_name.append(track[\"track\"][\"name\"])\n",
    "    \n",
    "    #Main Artist\n",
    "    artist_uri = track[\"track\"][\"artists\"][0][\"uri\"]\n",
    "    #print(f\"Uri:{artist_uri}\")\n",
    "    artist_info = sp.artist(artist_uri)\n",
    "    \n",
    "    #Name, popularity, genre\n",
    "    artist_name.append(track[\"track\"][\"artists\"][0][\"name\"])\n",
    "    artist_pop.append(artist_info[\"popularity\"])\n",
    "    artist_genres = artist_info[\"genres\"]\n",
    "    for genre in artist_genres:\n",
    "        if genre == artist_genres[-1]:\n",
    "            genres = genres + genre + ' '\n",
    "        else: \n",
    "            genres = genres + genre + ', '\n",
    "    genre_list.append(genres)\n",
    "    genres = ''\n",
    "    #Album\n",
    "    album.append(track[\"track\"][\"album\"][\"name\"])\n",
    "    \n",
    "    song_duration.append(track['track']['duration_ms'])\n",
    "    \n",
    "    #Popularity of the track\n",
    "    track_pop.append(track[\"track\"][\"popularity\"])\n",
    "top_fifty_df = pd.DataFrame({\"Song Name\": song_name, \n",
    "                            \"Artist Name\": artist_name,\n",
    "                            \"Artist Popularity\": artist_pop,\n",
    "                            \"Song Genre\": genre_list,\n",
    "                            \"Album\": album,\n",
    "                            \"Song Popularity\": track_pop})\n",
    "top_fifty_df"
   ]
  },
  {
   "cell_type": "code",
   "execution_count": null,
   "id": "fe559395",
   "metadata": {},
   "outputs": [],
   "source": [
    "artist_name = 'Drake'\n",
    "url = 'https://api.spotify.com/v1/search'\n",
    "headers = {\"Authorization\": \"Bearer \" + token}\n",
    "query = f\"?q={artist_name}&type=artist&limit=1\"\n",
    "query_url = url + query\n",
    "result = get(query_url, headers=headers)\n",
    "json_result = json.loads(result.content)\n",
    "json_result['artists']"
   ]
  },
  {
   "cell_type": "code",
   "execution_count": null,
   "id": "0a7a2f7f",
   "metadata": {},
   "outputs": [],
   "source": [
    "artist_name = []\n",
    "track_name = []\n",
    "popularity = []\n",
    "track_id = []\n",
    "for i in range(0,10000,50):\n",
    "    track_results = sp.search(q='year:2018', type='track', limit=50,offset=i)\n",
    "    for i, t in enumerate(track_results['tracks']['items']):\n",
    "        artist_name.append(t['artists'][0]['name'])\n",
    "        track_name.append(t['name'])\n",
    "        track_id.append(t['id'])\n",
    "        popularity.append(t['popularity'])\n"
   ]
  },
  {
   "cell_type": "code",
   "execution_count": null,
   "id": "4e081f00",
   "metadata": {},
   "outputs": [],
   "source": []
  }
 ],
 "metadata": {
  "kernelspec": {
   "display_name": "Python 3 (ipykernel)",
   "language": "python",
   "name": "python3"
  },
  "language_info": {
   "codemirror_mode": {
    "name": "ipython",
    "version": 3
   },
   "file_extension": ".py",
   "mimetype": "text/x-python",
   "name": "python",
   "nbconvert_exporter": "python",
   "pygments_lexer": "ipython3",
   "version": "3.9.13"
  }
 },
 "nbformat": 4,
 "nbformat_minor": 5
}
