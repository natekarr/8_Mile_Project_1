{
 "cells": [
  {
   "cell_type": "code",
   "execution_count": null,
   "id": "61246cad",
   "metadata": {},
   "outputs": [],
   "source": [
    "#need pip install spotipy to run this\n",
    "import json\n",
    "import spotipy\n",
    "import csv\n",
    "from spotipy.oauth2 import SpotifyClientCredentials\n",
    "import pandas as pd\n",
    "import numpy as np\n",
    "import matplotlib.pyplot as plt\n",
    "import os\n",
    "import base64\n",
    "import itertools\n",
    "import seaborn as sns\n",
    "import scipy.stats as stats\n",
    "from scipy.stats import ttest_ind\n",
    "from requests import post, get\n",
    "from config import cid, secret"
   ]
  },
  {
   "cell_type": "code",
   "execution_count": null,
   "id": "32df2730",
   "metadata": {},
   "outputs": [],
   "source": []
  },
  {
   "cell_type": "code",
   "execution_count": null,
   "id": "51b1538b",
   "metadata": {},
   "outputs": [],
   "source": [
    "client_credentials_manager = SpotifyClientCredentials(client_id=cid, client_secret=secret)\n",
    "sp = spotipy.Spotify(client_credentials_manager = client_credentials_manager)"
   ]
  },
  {
   "cell_type": "code",
   "execution_count": null,
   "id": "1e339d49",
   "metadata": {},
   "outputs": [],
   "source": [
    "results = sp.search(q='artist:' + 'Drake', type='artist')"
   ]
  },
  {
   "cell_type": "code",
   "execution_count": null,
   "id": "241609b8",
   "metadata": {},
   "outputs": [],
   "source": [
    "auth_string = cid + \":\" + secret\n",
    "auth_bytes = auth_string.encode('utf-8')\n",
    "auth_base64 = str(base64.b64encode(auth_bytes), 'utf-8')\n",
    "url = \"https://accounts.spotify.com/api/token\"\n",
    "headers = {\n",
    "    'Authorization': 'Basic ' + auth_base64,\n",
    "    'Content-Type': 'application/x-www-form-urlencoded'\n",
    "}\n",
    "data = {\"grant_type\": \"client_credentials\"}\n",
    "result = post(url, headers=headers, data=data)\n",
    "json_result = json.loads(result.content)\n",
    "token = json_result['access_token']\n",
    "print(token)"
   ]
  },
  {
   "cell_type": "code",
   "execution_count": null,
   "id": "d0f6d8e8",
   "metadata": {},
   "outputs": [],
   "source": [
    "playlist_link = \"https://open.spotify.com/playlist/37i9dQZF1DX7Jl5KP2eZaS?si=fa88101bc2b04d96\"\n",
    "playlist_URI = playlist_link.split(\"/\")[-1].split(\"?\")[0]\n",
    "track_uris = [x[\"track\"][\"uri\"] for x in sp.playlist_tracks(playlist_URI)[\"items\"]]"
   ]
  },
  {
   "cell_type": "code",
   "execution_count": null,
   "id": "204057d3",
   "metadata": {},
   "outputs": [],
   "source": [
    "sp.playlist_tracks(playlist_URI)['items'][0]['track']['duration_ms']"
   ]
  },
  {
   "cell_type": "code",
   "execution_count": null,
   "id": "9a34dc59",
   "metadata": {},
   "outputs": [],
   "source": [
    "genres = ''\n",
    "song_name = []\n",
    "artist_name = []\n",
    "artist_pop = []\n",
    "genre_list = []\n",
    "album = []\n",
    "track_pop = []\n",
    "years = []\n",
    "links = []\n",
    "song_years = []\n",
    "song_duration = []\n",
    "genres_compiled = []\n",
    "counts = []\n",
    "#playlist_df = pd.read_csv('Resources/Playlistlinks.csv')\n",
    "with open('Resources/Playlistlinks.csv') as file_obj:\n",
    "    reader_obj = csv.reader(file_obj)\n",
    "    next(reader_obj)\n",
    "    for row in reader_obj:\n",
    "        years.append(row[0])\n",
    "        links.append(row[1])\n",
    "for (link, year) in zip(links, years):\n",
    "    #URI\n",
    "    playlist_link = link\n",
    "    playlist_URI = playlist_link.split(\"/\")[-1].split(\"?\")[0]\n",
    "    #track_uris = [x[\"track\"][\"uri\"] for x in sp.playlist_tracks(playlist_URI)[\"items\"]]\n",
    "    print(f\"Starting link {link}\")\n",
    "    count = 1\n",
    "    for track in sp.playlist_tracks(playlist_URI)[\"items\"]:\n",
    "        if count == 51:\n",
    "            break\n",
    "        track_uri = track[\"track\"][\"uri\"]\n",
    "        #print(track_uri)\n",
    "        #track = sp.track(track_uri)\n",
    "        #print(track)\n",
    "        #break\n",
    "        song_genre = sp.track(track_uri)\n",
    "        #print(song_genre['genre'])\n",
    "\n",
    "        #Track name\n",
    "        song_name.append(track[\"track\"][\"name\"])\n",
    "\n",
    "        #Main Artist\n",
    "        artist_uri = track[\"track\"][\"artists\"][0][\"uri\"]\n",
    "        #print(f\"Uri:{artist_uri}\")\n",
    "        artist_info = sp.artist(artist_uri)\n",
    "\n",
    "        #Name, popularity, genre\n",
    "        artist_name.append(track[\"track\"][\"artists\"][0][\"name\"])\n",
    "        artist_pop.append(artist_info[\"popularity\"])\n",
    "        artist_genres = artist_info[\"genres\"]\n",
    "        for genre in artist_genres:\n",
    "            if genre == artist_genres[-1]:\n",
    "                genres = genres + genre + ' '\n",
    "            else: \n",
    "                genres = genres + genre + ', '\n",
    "        genre_list.append(genres)\n",
    "        genres = ''\n",
    "        #Album\n",
    "        album.append(track[\"track\"][\"album\"][\"name\"])\n",
    "\n",
    "        song_duration.append((track['track']['duration_ms']) / 60000)\n",
    "\n",
    "        song_years.append(year)\n",
    "    \n",
    "        #Popularity of the track\n",
    "        track_pop.append(track[\"track\"][\"popularity\"])\n",
    "        counts.append(count)\n",
    "        count += 1\n",
    "    \n",
    "print(f\"Song name count: {len(song_name)}\")\n",
    "print(f\"Artist name count:{len(artist_name)}\")\n",
    "print(f\"Artist pop count:{len(artist_pop)}\")\n",
    "print(f\"Artist genre count:{len(genre_list)}\")\n",
    "print(f\"Artist album count:{len(album)}\")\n",
    "print(f\"Track pop count:{len(track_pop)}\")\n",
    "print(f\"Artist name count:{len(song_years)}\")\n",
    "print(f\"Position in top 50 count:{len(counts)}\")"
   ]
  },
  {
   "cell_type": "code",
   "execution_count": null,
   "id": "ca7c933e",
   "metadata": {
    "scrolled": true
   },
   "outputs": [],
   "source": [
    "top_songs_df = pd.DataFrame({\"Year\": song_years,\n",
    "                            \"Song Name\": song_name, \n",
    "                            \"Artist\": artist_name,\n",
    "                            \"Artist Popularity\": artist_pop,\n",
    "                            \"Genre\": genre_list,\n",
    "                            \"Album\": album,\n",
    "                            \"Song Popularity\": track_pop,\n",
    "                            \"Song Position in top 50\": counts})\n",
    "top_songs_df"
   ]
  },
  {
   "cell_type": "code",
   "execution_count": null,
   "id": "01f2ef20",
   "metadata": {},
   "outputs": [],
   "source": [
    "top_songs_df['Artist'].value_counts()"
   ]
  },
  {
   "cell_type": "code",
   "execution_count": null,
   "id": "8b0b099e",
   "metadata": {},
   "outputs": [],
   "source": [
    "post_malone_df = top_songs_df.loc[(top_songs_df['Artist'] == 'Post Malone') | (top_songs_df['Artist'] == 'Drake')]\n",
    "post_malone_df"
   ]
  },
  {
   "cell_type": "code",
   "execution_count": null,
   "id": "18f46b0c",
   "metadata": {},
   "outputs": [],
   "source": [
    "#scatter = post_malone_df.plot.scatter(x='Year', y = 'Song Position in top 50', color = 'green', ylim=(0,50))\n",
    "scatter = sns.scatterplot(x=\"Year\", y=\"Song Position in top 50\", data=post_malone_df, hue=\"Artist\")\n",
    "plt.title('Post Malone compared to Drake Top 50 hits per year')\n",
    "ax = scatter.axes\n",
    "ax.invert_yaxis()\n",
    "plt.savefig('Output/fig9')"
   ]
  },
  {
   "cell_type": "code",
   "execution_count": null,
   "id": "b456b0e8",
   "metadata": {},
   "outputs": [],
   "source": [
    "#ho = popularity of a song is influenced by the release year of the song (reject if p_value < 0.5)\n",
    "#ha = popularity of a song is not influenced by the release year of the song"
   ]
  },
  {
   "cell_type": "code",
   "execution_count": null,
   "id": "945158aa",
   "metadata": {},
   "outputs": [],
   "source": [
    "#Null hypothesis = Post Malone is in top 10 80% of the time\n",
    "#popularity of a song is influenced by the release year of the song\n",
    "top_songs_df.groupby('Year')['Song Popularity'].mean()"
   ]
  },
  {
   "cell_type": "code",
   "execution_count": null,
   "id": "429f7906",
   "metadata": {},
   "outputs": [],
   "source": [
    "song_populatiry_year1 = top_songs_df[top_songs_df['Year'] == '2017']['Song Popularity']\n",
    "song_populatiry_year2 = top_songs_df[top_songs_df['Year'] == '2023']['Song Popularity']"
   ]
  },
  {
   "cell_type": "code",
   "execution_count": null,
   "id": "e42ba384",
   "metadata": {},
   "outputs": [],
   "source": [
    "#there is a asignificant difference in the song popularities by post malone and drake"
   ]
  },
  {
   "cell_type": "code",
   "execution_count": null,
   "id": "ad65aa86",
   "metadata": {},
   "outputs": [],
   "source": [
    "ttest,pvalue = stats.ttest_ind(song_populatiry_year1, song_populatiry_year2)"
   ]
  },
  {
   "cell_type": "code",
   "execution_count": null,
   "id": "686a4f57",
   "metadata": {},
   "outputs": [],
   "source": [
    "pvalue"
   ]
  },
  {
   "cell_type": "code",
   "execution_count": null,
   "id": "feb1c40c",
   "metadata": {},
   "outputs": [],
   "source": [
    "top_songs_df[top_songs_df['Artist']=='Post Malone']['Song Popularity'].mean()"
   ]
  },
  {
   "cell_type": "code",
   "execution_count": null,
   "id": "5156c205",
   "metadata": {},
   "outputs": [],
   "source": [
    "top_songs_df[top_songs_df['Artist']=='Drake']['Song Popularity'].mean()"
   ]
  },
  {
   "cell_type": "code",
   "execution_count": null,
   "id": "e9ef5c36",
   "metadata": {},
   "outputs": [],
   "source": [
    "cat1 = top_songs_df[top_songs_df['Artist']=='Post Malone']\n",
    "cat2 = top_songs_df[top_songs_df['Artist']=='Drake']\n",
    "\n",
    "ttest_ind(cat1['Song Popularity'], cat2['Song Popularity'])"
   ]
  },
  {
   "cell_type": "code",
   "execution_count": null,
   "id": "bf9c07a5",
   "metadata": {},
   "outputs": [],
   "source": [
    "top_songs_df.columns"
   ]
  },
  {
   "cell_type": "code",
   "execution_count": null,
   "id": "3054b09c",
   "metadata": {},
   "outputs": [],
   "source": [
    "top_songs_2016_df = top_songs_df.loc[top_songs_df['Year'] == '2016']\n",
    "top_songs_2017_df = top_songs_df.loc[top_songs_df['Year'] == '2017']\n",
    "top_songs_2018_df = top_songs_df.loc[top_songs_df['Year'] == '2018']\n",
    "top_songs_2019_df = top_songs_df.loc[top_songs_df['Year'] == '2019']\n",
    "top_songs_2020_df = top_songs_df.loc[top_songs_df['Year'] == '2020']\n",
    "top_songs_2021_df = top_songs_df.loc[top_songs_df['Year'] == '2021']\n",
    "top_songs_2022_df = top_songs_df.loc[top_songs_df['Year'] == '2022']"
   ]
  },
  {
   "cell_type": "code",
   "execution_count": null,
   "id": "efa9e819",
   "metadata": {},
   "outputs": [],
   "source": [
    "top_10_songs_df = top_songs_df.loc[top_songs_df['Song Position in top 50'] < 11]\n",
    "top_10_songs_df"
   ]
  },
  {
   "cell_type": "code",
   "execution_count": null,
   "id": "1a8ead19",
   "metadata": {},
   "outputs": [],
   "source": [
    "top_10_songs_df.boxplot(by=\"Year\", column=\"Song Popularity\")\n",
    "plt.title('Boxplot grouped by Year, top 10 Songs Song Popularity')\n",
    "plt.savefig('Output/fig1')"
   ]
  },
  {
   "cell_type": "code",
   "execution_count": null,
   "id": "8c8f8548",
   "metadata": {},
   "outputs": [],
   "source": [
    "top_10_songs_df.plot.scatter(x='Year', y = 'Song Popularity')\n",
    "plt.savefig('Output/fig2')"
   ]
  },
  {
   "cell_type": "code",
   "execution_count": null,
   "id": "86ed0c3b",
   "metadata": {},
   "outputs": [],
   "source": [
    "top_songs_df.boxplot(by=\"Year\", column=\"Song Popularity\")\n",
    "plt.savefig('Output/fig3')"
   ]
  },
  {
   "cell_type": "code",
   "execution_count": null,
   "id": "90664f5a",
   "metadata": {},
   "outputs": [],
   "source": [
    "top_songs_df.plot.scatter(x='Year', y = 'Song Popularity')\n",
    "plt.savefig('Output/fig4')"
   ]
  },
  {
   "cell_type": "code",
   "execution_count": null,
   "id": "11253731",
   "metadata": {},
   "outputs": [],
   "source": [
    "top_songs_df.plot.scatter(x='Artist Popularity', y = 'Song Popularity', color = 'green')\n",
    "plt.savefig('Output/fig5')"
   ]
  },
  {
   "cell_type": "code",
   "execution_count": null,
   "id": "d71ba417",
   "metadata": {},
   "outputs": [],
   "source": [
    "#null hypothesis: Song popularity and Artist Popularity are the same the majority of the time\n",
    "song_pop_test = top_songs_df['Song Popularity'].mean()\n",
    "print(song_pop_test)\n",
    "artist_pop_test =top_songs_df['Artist Popularity'].mean()\n",
    "print(artist_pop_test)\n",
    "#ttest,pvalue = stats.ttest_ind(song_pop_test, artist_pop_test)\n",
    "#pvalue"
   ]
  },
  {
   "cell_type": "code",
   "execution_count": null,
   "id": "dff325f8",
   "metadata": {},
   "outputs": [],
   "source": [
    "v = top_songs_df['Genre'].value_counts().index\n",
    "top_genres_df = top_songs_df[top_songs_df['Genre'].isin(top_songs_df['Genre'].value_counts()[top_songs_df['Genre'].value_counts()>1].index)]\n",
    "#top_genres_df['Genre'].value_counts()\n",
    "top_genres_df['Genre'].value_counts()[:30].plot(kind='bar')\n",
    "plt.xlabel('Genres') \n",
    "plt.ylabel('Number of Songs')\n",
    "plt.title('Top 30 Genres from 2016-2023 in Top Hits Playlists')\n",
    "plt.savefig('Output/fig6')"
   ]
  },
  {
   "cell_type": "code",
   "execution_count": null,
   "id": "14769fe6",
   "metadata": {},
   "outputs": [],
   "source": [
    "artistis_frequency_dict = top_songs_df['Artist'].value_counts()\n",
    "artists_more_than_two = [k for k,v in artistis_frequency_dict.items() if v>1]\n",
    "artists_more_than_two_df = top_songs_df[top_songs_df['Artist'].isin(artists_more_than_two)]\n",
    "artists_more_than_two_df"
   ]
  },
  {
   "cell_type": "code",
   "execution_count": null,
   "id": "88f788d3",
   "metadata": {},
   "outputs": [],
   "source": [
    "plt.figure(figsize=(30,5))\n",
    "artists_more_than_two_df['Artist'].value_counts().plot.bar()\n",
    "plt.xlabel('Artists')\n",
    "plt.ylabel('Times in Top 50')\n",
    "plt.title(\"Artists who appeared in Top 50 Hits more than once from 2016-2023\")\n",
    "plt.savefig('Output/fig7')"
   ]
  },
  {
   "cell_type": "code",
   "execution_count": null,
   "id": "8566d774",
   "metadata": {},
   "outputs": [],
   "source": [
    "#Top Songs From 2016-2022(Based on popularity greater than 85)\n",
    "top_popularity_songs_df = (top_songs_df.loc[top_songs_df['Song Popularity'] > 85]).sort_values(by=['Song Popularity'], ascending = False)\n",
    "\n",
    "top_popularity_songs_df.plot.scatter(x='Song Name', y='Song Popularity', title='Songs with popularity greater than 85(2016-2022 Top Hits)',ylabel='Popularity(Spotify Value)', \n",
    "                                 rot=90, ylim=(0,100), figsize=(20,5))\n",
    "plt.savefig('Output/fig8')\n"
   ]
  },
  {
   "cell_type": "code",
   "execution_count": null,
   "id": "fe559395",
   "metadata": {},
   "outputs": [],
   "source": [
    "artist_name = 'Drake'\n",
    "url = 'https://api.spotify.com/v1/search'\n",
    "headers = {\"Authorization\": \"Bearer \" + token}\n",
    "query = f\"?q={artist_name}&type=artist&limit=1\"\n",
    "query_url = url + query\n",
    "result = get(query_url, headers=headers)\n",
    "json_result = json.loads(result.content)\n",
    "json_result['artists']"
   ]
  },
  {
   "cell_type": "code",
   "execution_count": null,
   "id": "91dbfab3",
   "metadata": {},
   "outputs": [],
   "source": []
  }
 ],
 "metadata": {
  "kernelspec": {
   "display_name": "Python 3 (ipykernel)",
   "language": "python",
   "name": "python3"
  },
  "language_info": {
   "codemirror_mode": {
    "name": "ipython",
    "version": 3
   },
   "file_extension": ".py",
   "mimetype": "text/x-python",
   "name": "python",
   "nbconvert_exporter": "python",
   "pygments_lexer": "ipython3",
   "version": "3.9.13"
  }
 },
 "nbformat": 4,
 "nbformat_minor": 5
}
